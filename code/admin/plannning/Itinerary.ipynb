{
 "cells": [
  {
   "attachments": {},
   "cell_type": "markdown",
   "metadata": {},
   "source": [
    "# Itinerary Generation\n",
    "\n",
    "The purpose of this notebook is to generate the course site's itinerary page and subpages based on `Schedule.ipynb`"
   ]
  },
  {
   "cell_type": "code",
   "execution_count": 1,
   "metadata": {},
   "outputs": [],
   "source": [
    "from datetime import date, timedelta\n",
    "from helpers import calendar_table"
   ]
  },
  {
   "cell_type": "code",
   "execution_count": 2,
   "metadata": {},
   "outputs": [],
   "source": [
    "SITE_DIR=\"../../../site\""
   ]
  },
  {
   "attachments": {},
   "cell_type": "markdown",
   "metadata": {},
   "source": []
  },
  {
   "cell_type": "code",
   "execution_count": 3,
   "metadata": {},
   "outputs": [
    {
     "name": "stdout",
     "output_type": "stream",
     "text": [
      "The autoreload extension is already loaded. To reload it, use:\n",
      "  %reload_ext autoreload\n",
      "Date,Weekday,Plan\n",
      "Week 0\n",
      "Aug-19,Mon,FDOC\n",
      ",,Day 00\n",
      "Aug-21,Wed,Day 01\n",
      "Aug-23,Fri,Day 02\n",
      "Week 1\n",
      "Aug-26,Mon,Day 03\n",
      "Aug-28,Wed,Day 04\n",
      "Aug-30,Fri,Drop Period Ends\n",
      ",,Day 05\n",
      "Week 2\n",
      "Sep-02,Mon,University Holiday\n",
      "Sep-03,Tue,University Holiday\n",
      "Sep-04,Wed,Day 06\n",
      "Sep-06,Fri,Day 07\n",
      "Week 3\n",
      "Sep-09,Mon,Day 08\n",
      "Sep-11,Wed,Day 09\n",
      "Sep-13,Fri,Day 10\n",
      "Week 4\n",
      "Sep-16,Mon,Day 11\n",
      "Sep-18,Wed,Day 12\n",
      "Sep-20,Fri,Day 13\n",
      "Week 5\n",
      "Sep-23,Mon,University Holiday\n",
      "Sep-25,Wed,Day 14\n",
      "Sep-27,Fri,Day 15\n",
      "Week 6\n",
      "Sep-30,Mon,Day 16\n",
      "Oct-02,Wed,Day 17\n",
      "Oct-04,Fri,Day 18\n",
      "Week 7\n",
      "Oct-07,Mon,Day 19\n",
      "Oct-09,Wed,Day 20\n",
      "Oct-11,Fri,University Holiday\n",
      ",,Widthdraw Period Ends\n",
      "Week 8\n",
      "Oct-14,Mon,Day 21\n",
      "Oct-16,Wed,Day 22\n",
      "Oct-17,Thu,University Holiday\n",
      "Oct-18,Fri,University Holiday\n",
      "Week 9\n",
      "Oct-21,Mon,Day 23\n",
      "Oct-23,Wed,Day 24\n",
      "Oct-25,Fri,Day 25\n",
      "Week 10\n",
      "Oct-28,Mon,Day 26\n",
      "Oct-30,Wed,Day 27\n",
      "Nov-01,Fri,Day 28\n",
      "Week 11\n",
      "Nov-04,Mon,Day 29\n",
      "Nov-06,Wed,Day 30\n",
      "Nov-08,Fri,Day 31\n",
      "Week 12\n",
      "Nov-11,Mon,Day 32\n",
      "Nov-13,Wed,Day 33\n",
      "Nov-15,Fri,Day 34\n",
      "Week 13\n",
      "Nov-18,Mon,Day 35\n",
      "Nov-20,Wed,Day 36\n",
      "Nov-22,Fri,Day 37\n",
      "Week 14\n",
      "Nov-25,Mon,Day 38\n",
      "Nov-27,Wed,University Holiday\n",
      "Nov-28,Thu,University Holiday\n",
      "Nov-29,Fri,University Holiday\n",
      "Week 15\n",
      "Dec-02,Mon,Day 39\n",
      "Dec-04,Wed,LDOC\n",
      ",,Day 40\n",
      "Dec-07,Sat,Final @ 8:00AM\n"
     ]
    }
   ],
   "source": [
    "%reload_ext autoreload\n",
    "%run Schedule.ipynb"
   ]
  },
  {
   "attachments": {},
   "cell_type": "markdown",
   "metadata": {},
   "source": [
    "We're going to curate what is in the full syllabus based on what we want to expose to students."
   ]
  },
  {
   "cell_type": "code",
   "execution_count": 4,
   "metadata": {},
   "outputs": [
    {
     "data": {
      "text/html": [
       "<table>\n",
       "<tbody>\n",
       "<tr><td>Date   </td><td>Weekday</td><td>Plan                                       </td></tr>\n",
       "<tr><td>Week 0 </td><td>       </td><td>                                           </td></tr>\n",
       "<tr><td>Aug-19 </td><td>Mon    </td><td>Welcome to COMP110                         </td></tr>\n",
       "<tr><td>       </td><td>       </td><td>Out: Syllabus                              </td></tr>\n",
       "<tr><td>       </td><td>       </td><td>Due: Syllabus                              </td></tr>\n",
       "<tr><td>Aug-21 </td><td>Wed    </td><td>Objects and Data Types                     </td></tr>\n",
       "<tr><td>       </td><td>       </td><td>Out: VS Code, Terminal, + Running a Program</td></tr>\n",
       "<tr><td>       </td><td>       </td><td>Out: Objects and Data Types                </td></tr>\n",
       "<tr><td>       </td><td>       </td><td>Out: Hello, world!                         </td></tr>\n",
       "<tr><td>       </td><td>       </td><td>Due: VS Code, Terminal, + Running a Program</td></tr>\n",
       "<tr><td>       </td><td>       </td><td>Due: Objects and Data Types                </td></tr>\n",
       "<tr><td>Aug-23 </td><td>Fri    </td><td>Expressions                                </td></tr>\n",
       "<tr><td>       </td><td>       </td><td>Out: Expressions                           </td></tr>\n",
       "<tr><td>       </td><td>       </td><td>Due: Expressions                           </td></tr>\n",
       "<tr><td>Week 1 </td><td>       </td><td>                                           </td></tr>\n",
       "<tr><td>Aug-26 </td><td>Mon    </td><td>Functions                                  </td></tr>\n",
       "<tr><td>       </td><td>       </td><td>Out: Introducing Functions                 </td></tr>\n",
       "<tr><td>       </td><td>       </td><td>Out: Function Syntax                       </td></tr>\n",
       "<tr><td>       </td><td>       </td><td>Due: Introducing Functions                 </td></tr>\n",
       "<tr><td>       </td><td>       </td><td>Due: Function Syntax                       </td></tr>\n",
       "<tr><td>Aug-27 </td><td>Tue    </td><td>Due: Hello, world!                         </td></tr>\n",
       "<tr><td>Aug-28 </td><td>Wed    </td><td>Practice with Functions                    </td></tr>\n",
       "<tr><td>       </td><td>       </td><td>Out: Writing Functions                     </td></tr>\n",
       "<tr><td>       </td><td>       </td><td>Out: Tea Party                             </td></tr>\n",
       "<tr><td>       </td><td>       </td><td>Due: Writing Functions                     </td></tr>\n",
       "<tr><td>Aug-30 </td><td>Fri    </td><td>Memory Diagrams                            </td></tr>\n",
       "<tr><td>       </td><td>       </td><td>Out: Memory Diagrams                       </td></tr>\n",
       "<tr><td>       </td><td>       </td><td>Out: Memory Diagrams                       </td></tr>\n",
       "<tr><td>       </td><td>       </td><td>Due: Memory Diagrams                       </td></tr>\n",
       "<tr><td>       </td><td>       </td><td>Due: Memory Diagrams                       </td></tr>\n",
       "<tr><td>Week 2 </td><td>       </td><td>                                           </td></tr>\n",
       "<tr><td>Sep-04 </td><td>Wed    </td><td>Practice with Memory Diagrams              </td></tr>\n",
       "<tr><td>Sep-06 </td><td>Fri    </td><td>Out: Quiz 0                                </td></tr>\n",
       "<tr><td>       </td><td>       </td><td>Due: Quiz 0                                </td></tr>\n",
       "<tr><td>Week 3 </td><td>       </td><td>                                           </td></tr>\n",
       "<tr><td>Sep-12 </td><td>Thu    </td><td>Due: Tea Party                             </td></tr>\n",
       "<tr><td>Week 4 </td><td>       </td><td>                                           </td></tr>\n",
       "<tr><td>Sep-20 </td><td>Fri    </td><td>Out: Quiz 1                                </td></tr>\n",
       "<tr><td>       </td><td>       </td><td>Due: Quiz 1                                </td></tr>\n",
       "<tr><td>Week 5 </td><td>       </td><td>                                           </td></tr>\n",
       "<tr><td>Week 6 </td><td>       </td><td>                                           </td></tr>\n",
       "<tr><td>Week 7 </td><td>       </td><td>                                           </td></tr>\n",
       "<tr><td>Week 8 </td><td>       </td><td>                                           </td></tr>\n",
       "<tr><td>Week 9 </td><td>       </td><td>                                           </td></tr>\n",
       "<tr><td>Oct-25 </td><td>Fri    </td><td>Out: Quiz 2                                </td></tr>\n",
       "<tr><td>       </td><td>       </td><td>Due: Quiz 2                                </td></tr>\n",
       "<tr><td>Week 10</td><td>       </td><td>                                           </td></tr>\n",
       "<tr><td>Week 11</td><td>       </td><td>                                           </td></tr>\n",
       "<tr><td>Nov-08 </td><td>Fri    </td><td>Out: Quiz 3                                </td></tr>\n",
       "<tr><td>       </td><td>       </td><td>Due: Quiz 3                                </td></tr>\n",
       "<tr><td>Week 12</td><td>       </td><td>                                           </td></tr>\n",
       "<tr><td>Week 13</td><td>       </td><td>                                           </td></tr>\n",
       "<tr><td>Nov-22 </td><td>Fri    </td><td>Out: Quiz 4                                </td></tr>\n",
       "<tr><td>       </td><td>       </td><td>Due: Quiz 4                                </td></tr>\n",
       "<tr><td>Week 14</td><td>       </td><td>                                           </td></tr>\n",
       "<tr><td>Week 15</td><td>       </td><td>                                           </td></tr>\n",
       "<tr><td>Dec-07 </td><td>Sat    </td><td>Final @ 8:00AM                             </td></tr>\n",
       "</tbody>\n",
       "</table>"
      ],
      "text/plain": [
       "<IPython.core.display.HTML object>"
      ]
     },
     "execution_count": 4,
     "metadata": {},
     "output_type": "execute_result"
    }
   ],
   "source": [
    "today = date.today() - timedelta(2)  # Hack to keep the past three days in range for now, need to rewrite for deadlines\n",
    "\n",
    "def keep(plan):\n",
    "    # Don't show \"Class\" or \"Milestone\"\n",
    "    if plan.kind == Kind.MS or plan.kind == Kind.DK or plan.kind == Kind.NA:\n",
    "        return False\n",
    "    elif plan.kind == Kind.WD and plan.date - today > timedelta(6):\n",
    "        # Filter holidays out in the far future, but keep nearby ones in for\n",
    "        # positive vibes and unrelenting optimism.\n",
    "        return False\n",
    "    elif (plan.kind == Kind.CL or plan.kind == Kind.RV) and len(plan.links) == 0:\n",
    "        return False\n",
    "    elif plan.kind != Kind.QZ and plan.kind != Kind.EX and plan.kind != Kind.RD and plan.kind != Kind.FN and plan.date - today > timedelta(6):\n",
    "        return False\n",
    "    else:\n",
    "        return True\n",
    "\n",
    "for day in syllabus:\n",
    "    remove = []\n",
    "    syllabus[day] = [plan for plan in syllabus[day] if keep(plan)]\n",
    "\n",
    "show_calendar(syllabus)"
   ]
  },
  {
   "cell_type": "code",
   "execution_count": 5,
   "metadata": {},
   "outputs": [],
   "source": [
    "# Segment out future vs past\n",
    "future = {}\n",
    "past = {}\n",
    "for day in syllabus:\n",
    "    if day < today:\n",
    "        past[day] = syllabus[day]\n",
    "    else:\n",
    "        future[day] = syllabus[day]"
   ]
  },
  {
   "attachments": {},
   "cell_type": "markdown",
   "metadata": {},
   "source": [
    "Similar to itinerary generation, we will auto-generate the 'On the Horizon' box. First, let's curate what is in the box:"
   ]
  },
  {
   "cell_type": "code",
   "execution_count": 6,
   "metadata": {},
   "outputs": [],
   "source": [
    "from helpers import horizonize\n",
    "\n",
    "horizon_syl = horizonize(syllabus_copy)\n",
    "horizon_syl = [plan for plan in horizon_syl if plan.kind in {Kind.EX, Kind.QZ, Kind.RD, Kind.HW, Kind.FN, Kind.LS, Kind.PJ, Kind.CQ, Kind.VL}]"
   ]
  },
  {
   "attachments": {},
   "cell_type": "markdown",
   "metadata": {},
   "source": [
    "Stripping data to only near future quizzes and due dates"
   ]
  },
  {
   "cell_type": "code",
   "execution_count": 7,
   "metadata": {},
   "outputs": [
    {
     "name": "stdout",
     "output_type": "stream",
     "text": [
      "[<helpers.HorizonPlan object at 0x10c366f50>]\n"
     ]
    }
   ],
   "source": [
    "horizoninfo = []\n",
    "today = date.today()\n",
    "\n",
    "for plan in horizon_syl:\n",
    "    if plan.date > (today - timedelta(1)) and plan.date < (today + timedelta(8)):\n",
    "        horizoninfo.append(plan)\n",
    "\n",
    "print(horizoninfo)"
   ]
  },
  {
   "cell_type": "code",
   "execution_count": null,
   "metadata": {},
   "outputs": [],
   "source": []
  },
  {
   "attachments": {},
   "cell_type": "markdown",
   "metadata": {},
   "source": [
    "Working to add deadline in titles of assignments where assignment date != due date"
   ]
  },
  {
   "cell_type": "code",
   "execution_count": 8,
   "metadata": {},
   "outputs": [],
   "source": [
    "import calendar\n",
    "syllabus: dict[date, list[Plan]]\n",
    "for day in syllabus:\n",
    "    for plan in syllabus[day]: \n",
    "        if plan.deadline != plan.extension:\n",
    "            newdate = plan.extension.strftime(\"%-m/%-d\")\n",
    "            date = plan.deadline.strftime(\"%-m/%-d\")\n",
    "            plan.title += f\"<s><i>(Due {calendar.day_name[plan.deadline.weekday()]} {date})</i></s>\" \n",
    "            plan.title += f\" (Extended to {calendar.day_name[plan.extension.weekday()]} {newdate})\" \n",
    "        elif (plan.deadline != None) and (plan.kind != Kind.QZ): \n",
    "            date = plan.deadline.strftime(\"%-m/%-d\")\n",
    "            plan.title += f\" (Due {calendar.day_name[plan.deadline.weekday()]} {date})\" "
   ]
  },
  {
   "attachments": {},
   "cell_type": "markdown",
   "metadata": {},
   "source": [
    "And now (finally), we generate the itinerary and horizon box."
   ]
  },
  {
   "cell_type": "code",
   "execution_count": 9,
   "metadata": {},
   "outputs": [],
   "source": [
    "from jinja2 import Environment, FileSystemLoader, select_autoescape\n",
    "from helpers import serialize, serialize_plan\n",
    "import re\n",
    "import json \n",
    "from datetime import date\n",
    "env = Environment(\n",
    "    loader=FileSystemLoader(SITE_DIR),\n",
    "    autoescape=select_autoescape([\"html\", \"xml\"]),\n",
    "    trim_blocks=True,\n",
    "    lstrip_blocks=True\n",
    ")\n",
    "template = env.get_template(\"./index.jinja2\")\n",
    "with open(f\"{SITE_DIR}/index.md\", \"w\", encoding=\"utf8\") as target:\n",
    "    result = template.render(syllabus=syllabus, horizon_syl=horizon_syl, future=future, horizoninfo=horizoninfo, past=past, cache=date.today())\n",
    "    # We strip the double spaces because pandoc can't handle HTML well :(\n",
    "    stripped = re.sub(r' {2,}', '', result)\n",
    "    target.write(stripped)\n",
    "serializable_syllabus = serialize(syllabus) \n",
    "future_syllabus = serialize(future)  \n",
    "past_syllabus = serialize(past)   \n",
    "json_syllabus = json.dumps(serializable_syllabus, indent = 4)   \n",
    "json_future = json.dumps(future_syllabus, indent = 4)\n",
    "json_past = json.dumps(past_syllabus, indent = 4)\n",
    "f = open(f\"{SITE_DIR}/static/components/Itinerary/data.json\", \"w\")\n",
    "f.write(json_syllabus)\n",
    "f.close()\n",
    "f = open(f\"{SITE_DIR}/static/components/Itinerary/future.json\", \"w\")\n",
    "f.write(json_future)\n",
    "f.close()\n",
    "f = open(f\"{SITE_DIR}/static/components/Itinerary/past.json\", \"w\")\n",
    "f.write(json_past)\n",
    "f.close()"
   ]
  },
  {
   "cell_type": "code",
   "execution_count": 10,
   "metadata": {},
   "outputs": [],
   "source": [
    "# for slide in LS_links:\n",
    "    # print(slide)"
   ]
  }
 ],
 "metadata": {
  "kernelspec": {
   "display_name": "Python 3.10.5 64-bit",
   "language": "python",
   "name": "python3"
  },
  "language_info": {
   "codemirror_mode": {
    "name": "ipython",
    "version": 3
   },
   "file_extension": ".py",
   "mimetype": "text/x-python",
   "name": "python",
   "nbconvert_exporter": "python",
   "pygments_lexer": "ipython3",
   "version": "3.11.6"
  },
  "orig_nbformat": 3,
  "vscode": {
   "interpreter": {
    "hash": "aee8b7b246df8f9039afb4144a1f6fd8d2ca17a180786b69acc140d282b71a49"
   }
  }
 },
 "nbformat": 4,
 "nbformat_minor": 2
}
